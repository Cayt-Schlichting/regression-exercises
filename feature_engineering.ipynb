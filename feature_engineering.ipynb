{
 "cells": [
  {
   "cell_type": "code",
   "execution_count": 5,
   "id": "ea5a11ea",
   "metadata": {},
   "outputs": [],
   "source": [
    "#basics\n",
    "import pandas as pd\n",
    "import numpy as np\n",
    "\n",
    "#data\n",
    "from pydataset import data\n",
    "#stats and modeling\n",
    "from sklearn.feature_selection import SelectKBest, f_regression\n",
    "\n",
    "#modules\n",
    "import wrangle\n",
    "import utils"
   ]
  },
  {
   "cell_type": "code",
   "execution_count": 4,
   "id": "25028a10",
   "metadata": {},
   "outputs": [
    {
     "name": "stdout",
     "output_type": "stream",
     "text": [
      "<class 'pandas.core.frame.DataFrame'>\n",
      "Int64Index: 244 entries, 1 to 244\n",
      "Data columns (total 7 columns):\n",
      " #   Column      Non-Null Count  Dtype  \n",
      "---  ------      --------------  -----  \n",
      " 0   total_bill  244 non-null    float64\n",
      " 1   tip         244 non-null    float64\n",
      " 2   sex         244 non-null    object \n",
      " 3   smoker      244 non-null    object \n",
      " 4   day         244 non-null    object \n",
      " 5   time        244 non-null    object \n",
      " 6   size        244 non-null    int64  \n",
      "dtypes: float64(2), int64(1), object(4)\n",
      "memory usage: 15.2+ KB\n"
     ]
    }
   ],
   "source": [
    "tips = data('tips')\n",
    "tips.info()"
   ]
  },
  {
   "cell_type": "markdown",
   "id": "fbc38ad2",
   "metadata": {},
   "source": [
    "####  Write a select_kbest function - test on tips (#2)"
   ]
  },
  {
   "cell_type": "code",
   "execution_count": null,
   "id": "4470d074",
   "metadata": {},
   "outputs": [],
   "source": [
    "#2\n",
    "#Required imports\n",
    "# import numpy as np\n",
    "# import pandas as pd\n",
    "# from sklearn.feature_selection import SelectKBest, f_regression\n",
    "\n",
    "def select_kbest(X,y,k):\n",
    "    '''\n",
    "    Uses sklearn.feature_selection.SelectKBest to select top k features.\n",
    "    \n",
    "    Returns: List corresp\n",
    "    Inputs: \n",
    "      (R) X: Pandas Dataframe of features and values\n",
    "      (R) y: target variable\n",
    "      (R) k: number of features to select\n",
    "    '''\n",
    "    #Create feature selector\n",
    "    f_selector = SelectKBest(f_regression,k=k)\n",
    "    #Find best features\n",
    "    f_selector.fit(X,y)\n",
    "    # Boolean mask of which columns are selected\n",
    "    f_mask = f_selector.get_support()\n",
    "    #get list of top features\n",
    "    k_features = X.columns[f_mask].tolist()\n",
    "    #Not available until sklearn v 1.\n",
    "    # f_selector.get_feature_names_out() \n",
    "    "
   ]
  },
  {
   "cell_type": "code",
   "execution_count": 18,
   "id": "41580c9b",
   "metadata": {},
   "outputs": [
    {
     "data": {
      "text/plain": [
       "array([ True, False])"
      ]
     },
     "execution_count": 18,
     "metadata": {},
     "output_type": "execute_result"
    }
   ],
   "source": [
    "f_selector.get_support()"
   ]
  },
  {
   "cell_type": "code",
   "execution_count": 20,
   "id": "0b3c9ba0",
   "metadata": {},
   "outputs": [
    {
     "data": {
      "text/plain": [
       "array([ True, False])"
      ]
     },
     "execution_count": 20,
     "metadata": {},
     "output_type": "execute_result"
    }
   ],
   "source": [
    "f_mask"
   ]
  },
  {
   "cell_type": "code",
   "execution_count": 25,
   "id": "625f0dd4",
   "metadata": {},
   "outputs": [
    {
     "data": {
      "text/plain": [
       "{'k': 1,\n",
       " 'score_func': <function sklearn.feature_selection._univariate_selection.f_regression(X, y, *, center=True)>}"
      ]
     },
     "execution_count": 25,
     "metadata": {},
     "output_type": "execute_result"
    }
   ],
   "source": [
    "f_selector.get_params()"
   ]
  }
 ],
 "metadata": {
  "kernelspec": {
   "display_name": "Python 3 (ipykernel)",
   "language": "python",
   "name": "python3"
  },
  "language_info": {
   "codemirror_mode": {
    "name": "ipython",
    "version": 3
   },
   "file_extension": ".py",
   "mimetype": "text/x-python",
   "name": "python",
   "nbconvert_exporter": "python",
   "pygments_lexer": "ipython3",
   "version": "3.9.7"
  }
 },
 "nbformat": 4,
 "nbformat_minor": 5
}
