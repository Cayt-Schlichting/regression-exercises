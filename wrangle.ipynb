{
 "cells": [
  {
   "cell_type": "code",
   "execution_count": 44,
   "id": "20e22c48",
   "metadata": {},
   "outputs": [],
   "source": [
    "import os\n",
    "import pandas as pd\n",
    "\n",
    "import matplotlib.pyplot as plt\n",
    "import seaborn as sns\n",
    "\n",
    "from env import get_db_url"
   ]
  },
  {
   "cell_type": "code",
   "execution_count": 45,
   "id": "251afd6f",
   "metadata": {},
   "outputs": [],
   "source": [
    "#Write some SQL - expect 2152863 rows\n",
    "sql = \"\"\"\n",
    "SELECT bedroomcnt as bed,\n",
    "    bathroomcnt as bath, \n",
    "    calculatedfinishedsquarefeet as sf, \n",
    "    taxvaluedollarcnt as value, \n",
    "    yearbuilt, \n",
    "    taxamount, \n",
    "    fips\n",
    "FROM properties_2017\n",
    "    JOIN propertylandusetype USING(propertylandusetypeid)\n",
    "WHERE propertylandusedesc = 'Single Family Residential';\n",
    "\"\"\"\n"
   ]
  },
  {
   "cell_type": "code",
   "execution_count": 46,
   "id": "96b5a240",
   "metadata": {},
   "outputs": [],
   "source": [
    "df = df_backup = pd.read_sql(sql,get_db_url('zillow'))"
   ]
  },
  {
   "cell_type": "code",
   "execution_count": 47,
   "id": "77040741",
   "metadata": {},
   "outputs": [
    {
     "data": {
      "text/plain": [
       "(2152863, 7)"
      ]
     },
     "execution_count": 47,
     "metadata": {},
     "output_type": "execute_result"
    }
   ],
   "source": [
    "df.shape #rows match"
   ]
  },
  {
   "cell_type": "code",
   "execution_count": 48,
   "id": "7dcd2d9c",
   "metadata": {},
   "outputs": [
    {
     "name": "stdout",
     "output_type": "stream",
     "text": [
      "<class 'pandas.core.frame.DataFrame'>\n",
      "RangeIndex: 2152863 entries, 0 to 2152862\n",
      "Data columns (total 7 columns):\n",
      " #   Column     Non-Null Count    Dtype  \n",
      "---  ------     --------------    -----  \n",
      " 0   bed        2152852 non-null  float64\n",
      " 1   bath       2152852 non-null  float64\n",
      " 2   sf         2144379 non-null  float64\n",
      " 3   value      2152370 non-null  float64\n",
      " 4   yearbuilt  2143526 non-null  float64\n",
      " 5   taxamount  2148421 non-null  float64\n",
      " 6   fips       2152863 non-null  float64\n",
      "dtypes: float64(7)\n",
      "memory usage: 115.0 MB\n"
     ]
    }
   ],
   "source": [
    "df.info(show_counts=True)"
   ]
  },
  {
   "cell_type": "markdown",
   "id": "83da0b65",
   "metadata": {},
   "source": [
    "### Investigating the nulls"
   ]
  },
  {
   "cell_type": "markdown",
   "id": "3ff5e50e",
   "metadata": {},
   "source": [
    "First, let's look at the nulls of our target variable"
   ]
  },
  {
   "cell_type": "code",
   "execution_count": 49,
   "id": "bd222007",
   "metadata": {},
   "outputs": [
    {
     "data": {
      "text/plain": [
       "(493, 7)"
      ]
     },
     "execution_count": 49,
     "metadata": {},
     "output_type": "execute_result"
    }
   ],
   "source": [
    "df[df.value.isna()].shape"
   ]
  },
  {
   "cell_type": "markdown",
   "id": "be0452f6",
   "metadata": {},
   "source": [
    "Only 500 of 2 million, plus we don't want to be imputing our target. \n",
    "\n",
    "**ACTION:** Drop all rows where target variable is null"
   ]
  },
  {
   "cell_type": "code",
   "execution_count": 50,
   "id": "26e792b1",
   "metadata": {},
   "outputs": [
    {
     "name": "stdout",
     "output_type": "stream",
     "text": [
      "<class 'pandas.core.frame.DataFrame'>\n",
      "Int64Index: 2152370 entries, 0 to 2152862\n",
      "Data columns (total 7 columns):\n",
      " #   Column     Non-Null Count    Dtype  \n",
      "---  ------     --------------    -----  \n",
      " 0   bed        2152359 non-null  float64\n",
      " 1   bath       2152359 non-null  float64\n",
      " 2   sf         2144264 non-null  float64\n",
      " 3   value      2152370 non-null  float64\n",
      " 4   yearbuilt  2143408 non-null  float64\n",
      " 5   taxamount  2148390 non-null  float64\n",
      " 6   fips       2152370 non-null  float64\n",
      "dtypes: float64(7)\n",
      "memory usage: 131.4 MB\n"
     ]
    }
   ],
   "source": [
    "value_null_ind =  df[df.value.isna()].index\n",
    "df.drop(index=value_null_ind,inplace=True)\n",
    "df.info(show_counts=True)"
   ]
  },
  {
   "cell_type": "markdown",
   "id": "ac0192ad",
   "metadata": {},
   "source": [
    "Based on the above table, we have fips for every row which makes sense as every parcelid (pk from orginial table) should have a fips.  \n",
    "\n",
    "The next highest non-null columns are bed and bath.  so let's investigate those first"
   ]
  },
  {
   "cell_type": "code",
   "execution_count": 51,
   "id": "278fa878",
   "metadata": {},
   "outputs": [
    {
     "data": {
      "text/html": [
       "<div>\n",
       "<style scoped>\n",
       "    .dataframe tbody tr th:only-of-type {\n",
       "        vertical-align: middle;\n",
       "    }\n",
       "\n",
       "    .dataframe tbody tr th {\n",
       "        vertical-align: top;\n",
       "    }\n",
       "\n",
       "    .dataframe thead th {\n",
       "        text-align: right;\n",
       "    }\n",
       "</style>\n",
       "<table border=\"1\" class=\"dataframe\">\n",
       "  <thead>\n",
       "    <tr style=\"text-align: right;\">\n",
       "      <th></th>\n",
       "      <th>bed</th>\n",
       "      <th>bath</th>\n",
       "      <th>sf</th>\n",
       "      <th>value</th>\n",
       "      <th>yearbuilt</th>\n",
       "      <th>taxamount</th>\n",
       "      <th>fips</th>\n",
       "    </tr>\n",
       "  </thead>\n",
       "  <tbody>\n",
       "    <tr>\n",
       "      <th>107763</th>\n",
       "      <td>NaN</td>\n",
       "      <td>NaN</td>\n",
       "      <td>NaN</td>\n",
       "      <td>67366.0</td>\n",
       "      <td>1926.0</td>\n",
       "      <td>780.54</td>\n",
       "      <td>6059.0</td>\n",
       "    </tr>\n",
       "    <tr>\n",
       "      <th>118612</th>\n",
       "      <td>NaN</td>\n",
       "      <td>NaN</td>\n",
       "      <td>NaN</td>\n",
       "      <td>43992.0</td>\n",
       "      <td>1946.0</td>\n",
       "      <td>541.64</td>\n",
       "      <td>6059.0</td>\n",
       "    </tr>\n",
       "    <tr>\n",
       "      <th>193993</th>\n",
       "      <td>NaN</td>\n",
       "      <td>NaN</td>\n",
       "      <td>1348.0</td>\n",
       "      <td>840698.0</td>\n",
       "      <td>1952.0</td>\n",
       "      <td>NaN</td>\n",
       "      <td>6059.0</td>\n",
       "    </tr>\n",
       "    <tr>\n",
       "      <th>1141339</th>\n",
       "      <td>NaN</td>\n",
       "      <td>NaN</td>\n",
       "      <td>200.0</td>\n",
       "      <td>188972.0</td>\n",
       "      <td>NaN</td>\n",
       "      <td>NaN</td>\n",
       "      <td>6037.0</td>\n",
       "    </tr>\n",
       "    <tr>\n",
       "      <th>1324608</th>\n",
       "      <td>NaN</td>\n",
       "      <td>NaN</td>\n",
       "      <td>990.0</td>\n",
       "      <td>435000.0</td>\n",
       "      <td>1906.0</td>\n",
       "      <td>NaN</td>\n",
       "      <td>6037.0</td>\n",
       "    </tr>\n",
       "    <tr>\n",
       "      <th>1442975</th>\n",
       "      <td>NaN</td>\n",
       "      <td>NaN</td>\n",
       "      <td>NaN</td>\n",
       "      <td>273196.0</td>\n",
       "      <td>NaN</td>\n",
       "      <td>NaN</td>\n",
       "      <td>6037.0</td>\n",
       "    </tr>\n",
       "    <tr>\n",
       "      <th>1647346</th>\n",
       "      <td>NaN</td>\n",
       "      <td>NaN</td>\n",
       "      <td>400.0</td>\n",
       "      <td>28347.0</td>\n",
       "      <td>1954.0</td>\n",
       "      <td>NaN</td>\n",
       "      <td>6037.0</td>\n",
       "    </tr>\n",
       "    <tr>\n",
       "      <th>1701026</th>\n",
       "      <td>NaN</td>\n",
       "      <td>NaN</td>\n",
       "      <td>NaN</td>\n",
       "      <td>407930.0</td>\n",
       "      <td>1926.0</td>\n",
       "      <td>NaN</td>\n",
       "      <td>6037.0</td>\n",
       "    </tr>\n",
       "    <tr>\n",
       "      <th>1722707</th>\n",
       "      <td>NaN</td>\n",
       "      <td>NaN</td>\n",
       "      <td>NaN</td>\n",
       "      <td>477161.0</td>\n",
       "      <td>NaN</td>\n",
       "      <td>NaN</td>\n",
       "      <td>6037.0</td>\n",
       "    </tr>\n",
       "    <tr>\n",
       "      <th>1776422</th>\n",
       "      <td>NaN</td>\n",
       "      <td>NaN</td>\n",
       "      <td>NaN</td>\n",
       "      <td>38855.0</td>\n",
       "      <td>NaN</td>\n",
       "      <td>NaN</td>\n",
       "      <td>6037.0</td>\n",
       "    </tr>\n",
       "    <tr>\n",
       "      <th>1797985</th>\n",
       "      <td>NaN</td>\n",
       "      <td>NaN</td>\n",
       "      <td>NaN</td>\n",
       "      <td>1017957.0</td>\n",
       "      <td>1990.0</td>\n",
       "      <td>NaN</td>\n",
       "      <td>6037.0</td>\n",
       "    </tr>\n",
       "  </tbody>\n",
       "</table>\n",
       "</div>"
      ],
      "text/plain": [
       "         bed  bath      sf      value  yearbuilt  taxamount    fips\n",
       "107763   NaN   NaN     NaN    67366.0     1926.0     780.54  6059.0\n",
       "118612   NaN   NaN     NaN    43992.0     1946.0     541.64  6059.0\n",
       "193993   NaN   NaN  1348.0   840698.0     1952.0        NaN  6059.0\n",
       "1141339  NaN   NaN   200.0   188972.0        NaN        NaN  6037.0\n",
       "1324608  NaN   NaN   990.0   435000.0     1906.0        NaN  6037.0\n",
       "1442975  NaN   NaN     NaN   273196.0        NaN        NaN  6037.0\n",
       "1647346  NaN   NaN   400.0    28347.0     1954.0        NaN  6037.0\n",
       "1701026  NaN   NaN     NaN   407930.0     1926.0        NaN  6037.0\n",
       "1722707  NaN   NaN     NaN   477161.0        NaN        NaN  6037.0\n",
       "1776422  NaN   NaN     NaN    38855.0        NaN        NaN  6037.0\n",
       "1797985  NaN   NaN     NaN  1017957.0     1990.0        NaN  6037.0"
      ]
     },
     "execution_count": 51,
     "metadata": {},
     "output_type": "execute_result"
    }
   ],
   "source": [
    "df[df.bed.isna()]"
   ]
  },
  {
   "cell_type": "markdown",
   "id": "616ed9e7",
   "metadata": {},
   "source": [
    "Looking at the above table, this subset of rows have minimal information.  If there is no bed or bath AND half of the remaining columns don't exist, we should just drop.\n",
    "\n",
    "**ACTION:** Drop all rows where df.bed is null"
   ]
  },
  {
   "cell_type": "code",
   "execution_count": 52,
   "id": "92f3a5c1",
   "metadata": {},
   "outputs": [
    {
     "name": "stdout",
     "output_type": "stream",
     "text": [
      "<class 'pandas.core.frame.DataFrame'>\n",
      "Int64Index: 2152359 entries, 0 to 2152862\n",
      "Data columns (total 7 columns):\n",
      " #   Column     Non-Null Count    Dtype  \n",
      "---  ------     --------------    -----  \n",
      " 0   bed        2152359 non-null  float64\n",
      " 1   bath       2152359 non-null  float64\n",
      " 2   sf         2144260 non-null  float64\n",
      " 3   value      2152359 non-null  float64\n",
      " 4   yearbuilt  2143401 non-null  float64\n",
      " 5   taxamount  2148388 non-null  float64\n",
      " 6   fips       2152359 non-null  float64\n",
      "dtypes: float64(7)\n",
      "memory usage: 131.4 MB\n"
     ]
    }
   ],
   "source": [
    "bed_null_ind = df[df.bed.isna()].index\n",
    "df.drop(index=bed_null_ind,inplace=True)\n",
    "df.info(show_counts=True)"
   ]
  },
  {
   "cell_type": "markdown",
   "id": "ffa8e800",
   "metadata": {},
   "source": [
    "Now let's see how many are in the rest of the columns"
   ]
  },
  {
   "cell_type": "code",
   "execution_count": 53,
   "id": "c049b183",
   "metadata": {},
   "outputs": [
    {
     "data": {
      "text/plain": [
       "(8099, 7)"
      ]
     },
     "execution_count": 53,
     "metadata": {},
     "output_type": "execute_result"
    }
   ],
   "source": [
    "df[df.sf.isna()].shape"
   ]
  },
  {
   "cell_type": "code",
   "execution_count": 54,
   "id": "8fd7b109",
   "metadata": {},
   "outputs": [
    {
     "data": {
      "text/plain": [
       "(8958, 7)"
      ]
     },
     "execution_count": 54,
     "metadata": {},
     "output_type": "execute_result"
    }
   ],
   "source": [
    "df[df.yearbuilt.isna()].shape"
   ]
  },
  {
   "cell_type": "code",
   "execution_count": 55,
   "id": "645c9aca",
   "metadata": {},
   "outputs": [
    {
     "data": {
      "text/plain": [
       "(3971, 7)"
      ]
     },
     "execution_count": 55,
     "metadata": {},
     "output_type": "execute_result"
    }
   ],
   "source": [
    "df[df.taxamount.isna()].shape"
   ]
  },
  {
   "cell_type": "code",
   "execution_count": 56,
   "id": "4a63a77b",
   "metadata": {},
   "outputs": [
    {
     "data": {
      "text/plain": [
       "(array([1347.,    0.,    0.,    0.,    0., 6210.,    0.,    0.,    0.,\n",
       "        4567.]),\n",
       " array([4. , 4.2, 4.4, 4.6, 4.8, 5. , 5.2, 5.4, 5.6, 5.8, 6. ]),\n",
       " <BarContainer object of 10 artists>)"
      ]
     },
     "execution_count": 56,
     "metadata": {},
     "output_type": "execute_result"
    },
    {
     "data": {
      "image/png": "[encoded data removed]",
      "text/plain": [
       "<Figure size 432x288 with 1 Axes>"
      ]
     },
     "metadata": {
      "needs_background": "light"
     },
     "output_type": "display_data"
    }
   ],
   "source": [
    "#let's check out some overlap\n",
    "hist = df.count(axis=1,numeric_only=False)\n",
    "plt.hist(hist[hist<7])"
   ]
  },
  {
   "cell_type": "markdown",
   "id": "9e4a7e3c",
   "metadata": {},
   "source": [
    "Looking at the above, a decent number of these are only missing one piece of data.  However, since we are still only looking at ~12k total rows, I am going to go ahead and drop them all.  Ideally, I'd check some of this with stakeholders.  My primary concern is that we may be inadvertently trimming a particular geographic area (perhaps one with poor tax amount reporting to the county)\n",
    "\n",
    "**ACTION:** Drop all nulls"
   ]
  },
  {
   "cell_type": "code",
   "execution_count": 57,
   "id": "649ba61b",
   "metadata": {},
   "outputs": [
    {
     "data": {
      "text/plain": [
       "(2140235, 7)"
      ]
     },
     "execution_count": 57,
     "metadata": {},
     "output_type": "execute_result"
    }
   ],
   "source": [
    "df.dropna(inplace=True)\n",
    "df.shape"
   ]
  },
  {
   "cell_type": "markdown",
   "id": "fad7abfd",
   "metadata": {},
   "source": [
    "### Look at the distributions of each feature"
   ]
  },
  {
   "cell_type": "code",
   "execution_count": 58,
   "id": "83d3a2c4",
   "metadata": {},
   "outputs": [
    {
     "data": {
      "image/png": "[encoded data removed]",
      "text/plain": [
       "<Figure size 720x1080 with 14 Axes>"
      ]
     },
     "metadata": {
      "needs_background": "light"
     },
     "output_type": "display_data"
    }
   ],
   "source": [
    "#See on logarythmic scale to better see outliers\n",
    "plt.figure(figsize=(10,15))\n",
    "ct=0\n",
    "for c in df.columns:\n",
    "    ct +=1\n",
    "    plt.subplot(7,2,ct)\n",
    "    plt.hist(df[c])\n",
    "    plt.title(c+'_log')\n",
    "    plt.yscale('log')\n",
    "    ct +=1\n",
    "    plt.subplot(7,2,ct)\n",
    "    plt.hist(df[c])\n",
    "    plt.title(c)\n",
    "    plt.ylim((0,10))\n",
    "    \n",
    "plt.tight_layout()"
   ]
  },
  {
   "cell_type": "markdown",
   "id": "0423971f",
   "metadata": {},
   "source": [
    "Definitely some bed, bath, tax, value and year outliers.  I don't want to snap any values in.  I also think it may be best to ignore bed/bath outliers first, then see if addressing sf or value will handle those.\n",
    "\n",
    "I want to avoid trimming by my target variable, so first I'll trim by sf and hope that it also helps address outliers on the value:\n",
    "- Since Zillow estimates are not expected to be utilized by the top 1%, I want to cut some of the expensive houses. We'll cut the top .1% of sf homes off the dataset.  NOTE: I recognized that sf is being used as a proxy for value, but it's one method of avoiding trimming by our target so that we can better specify how the model was trained in a useful manner\n",
    "- Since the data is skewed right, I want to trim less off the left.  After considering a few different cutoffs, I found that california code restricts minimum dwelling size to 120 sq ft. \n",
    "  - \"Every dwelling unit shall have at least one room that shall have not less than 120 square feet (13.9 m2) of net floor area\"\n",
    "  \n",
    "**ACTION:** Drop rows with the top .1% of sf or an sf of less than 120"
   ]
  },
  {
   "cell_type": "code",
   "execution_count": 59,
   "id": "eaed252b",
   "metadata": {},
   "outputs": [
    {
     "data": {
      "text/plain": [
       "(2137960, 7)"
      ]
     },
     "execution_count": 59,
     "metadata": {},
     "output_type": "execute_result"
    }
   ],
   "source": [
    "#drop top 1% of sf\n",
    "df = df[df.sf<df.sf.quantile(.999)]\n",
    "\n",
    "#drop anything less than 120 sf\n",
    "df = df[df.sf>=120]\n",
    "df.shape"
   ]
  },
  {
   "cell_type": "code",
   "execution_count": 60,
   "id": "11acf567",
   "metadata": {},
   "outputs": [
    {
     "data": {
      "text/html": [
       "<div>\n",
       "<style scoped>\n",
       "    .dataframe tbody tr th:only-of-type {\n",
       "        vertical-align: middle;\n",
       "    }\n",
       "\n",
       "    .dataframe tbody tr th {\n",
       "        vertical-align: top;\n",
       "    }\n",
       "\n",
       "    .dataframe thead th {\n",
       "        text-align: right;\n",
       "    }\n",
       "</style>\n",
       "<table border=\"1\" class=\"dataframe\">\n",
       "  <thead>\n",
       "    <tr style=\"text-align: right;\">\n",
       "      <th></th>\n",
       "      <th>count</th>\n",
       "      <th>mean</th>\n",
       "      <th>std</th>\n",
       "      <th>min</th>\n",
       "      <th>25%</th>\n",
       "      <th>50%</th>\n",
       "      <th>75%</th>\n",
       "      <th>max</th>\n",
       "    </tr>\n",
       "  </thead>\n",
       "  <tbody>\n",
       "    <tr>\n",
       "      <th>bed</th>\n",
       "      <td>2137960.0</td>\n",
       "      <td>3.298758</td>\n",
       "      <td>0.926437</td>\n",
       "      <td>0.00</td>\n",
       "      <td>3.0000</td>\n",
       "      <td>3.00</td>\n",
       "      <td>4.0000</td>\n",
       "      <td>18.00</td>\n",
       "    </tr>\n",
       "    <tr>\n",
       "      <th>bath</th>\n",
       "      <td>2137960.0</td>\n",
       "      <td>2.234526</td>\n",
       "      <td>0.969255</td>\n",
       "      <td>0.00</td>\n",
       "      <td>2.0000</td>\n",
       "      <td>2.00</td>\n",
       "      <td>3.0000</td>\n",
       "      <td>20.00</td>\n",
       "    </tr>\n",
       "    <tr>\n",
       "      <th>sf</th>\n",
       "      <td>2137960.0</td>\n",
       "      <td>1852.191523</td>\n",
       "      <td>902.931396</td>\n",
       "      <td>120.00</td>\n",
       "      <td>1257.0000</td>\n",
       "      <td>1622.00</td>\n",
       "      <td>2206.0000</td>\n",
       "      <td>9407.00</td>\n",
       "    </tr>\n",
       "    <tr>\n",
       "      <th>value</th>\n",
       "      <td>2137960.0</td>\n",
       "      <td>452988.461246</td>\n",
       "      <td>580011.793191</td>\n",
       "      <td>22.00</td>\n",
       "      <td>189003.0000</td>\n",
       "      <td>327925.00</td>\n",
       "      <td>533452.0000</td>\n",
       "      <td>49386312.00</td>\n",
       "    </tr>\n",
       "    <tr>\n",
       "      <th>yearbuilt</th>\n",
       "      <td>2137960.0</td>\n",
       "      <td>1960.937955</td>\n",
       "      <td>22.127124</td>\n",
       "      <td>1801.00</td>\n",
       "      <td>1949.0000</td>\n",
       "      <td>1958.00</td>\n",
       "      <td>1975.0000</td>\n",
       "      <td>2016.00</td>\n",
       "    </tr>\n",
       "    <tr>\n",
       "      <th>taxamount</th>\n",
       "      <td>2137960.0</td>\n",
       "      <td>5528.332096</td>\n",
       "      <td>6666.829586</td>\n",
       "      <td>6.34</td>\n",
       "      <td>2539.4575</td>\n",
       "      <td>4108.38</td>\n",
       "      <td>6402.0425</td>\n",
       "      <td>560290.15</td>\n",
       "    </tr>\n",
       "    <tr>\n",
       "      <th>fips</th>\n",
       "      <td>2137960.0</td>\n",
       "      <td>6048.313200</td>\n",
       "      <td>20.348094</td>\n",
       "      <td>6037.00</td>\n",
       "      <td>6037.0000</td>\n",
       "      <td>6037.00</td>\n",
       "      <td>6059.0000</td>\n",
       "      <td>6111.00</td>\n",
       "    </tr>\n",
       "  </tbody>\n",
       "</table>\n",
       "</div>"
      ],
      "text/plain": [
       "               count           mean            std      min          25%  \\\n",
       "bed        2137960.0       3.298758       0.926437     0.00       3.0000   \n",
       "bath       2137960.0       2.234526       0.969255     0.00       2.0000   \n",
       "sf         2137960.0    1852.191523     902.931396   120.00    1257.0000   \n",
       "value      2137960.0  452988.461246  580011.793191    22.00  189003.0000   \n",
       "yearbuilt  2137960.0    1960.937955      22.127124  1801.00    1949.0000   \n",
       "taxamount  2137960.0    5528.332096    6666.829586     6.34    2539.4575   \n",
       "fips       2137960.0    6048.313200      20.348094  6037.00    6037.0000   \n",
       "\n",
       "                 50%          75%          max  \n",
       "bed             3.00       4.0000        18.00  \n",
       "bath            2.00       3.0000        20.00  \n",
       "sf           1622.00    2206.0000      9407.00  \n",
       "value      327925.00  533452.0000  49386312.00  \n",
       "yearbuilt    1958.00    1975.0000      2016.00  \n",
       "taxamount    4108.38    6402.0425    560290.15  \n",
       "fips         6037.00    6059.0000      6111.00  "
      ]
     },
     "execution_count": 60,
     "metadata": {},
     "output_type": "execute_result"
    }
   ],
   "source": [
    "df.describe().T"
   ]
  },
  {
   "cell_type": "code",
   "execution_count": 61,
   "id": "69930117",
   "metadata": {},
   "outputs": [
    {
     "data": {
      "image/png": "[encoded data removed]",
      "text/plain": [
       "<Figure size 720x1080 with 14 Axes>"
      ]
     },
     "metadata": {
      "needs_background": "light"
     },
     "output_type": "display_data"
    }
   ],
   "source": [
    "#See on logarythmic scale to better see outliers\n",
    "plt.figure(figsize=(10,15))\n",
    "ct=0\n",
    "for c in df.columns:\n",
    "    ct +=1\n",
    "    plt.subplot(7,2,ct)\n",
    "    plt.hist(df[c])\n",
    "    plt.title(c+'_log')\n",
    "    plt.yscale('log')\n",
    "    ct +=1\n",
    "    plt.subplot(7,2,ct)\n",
    "    plt.hist(df[c])\n",
    "    plt.title(c)\n",
    "    plt.ylim((0,10))\n",
    "    \n",
    "plt.tight_layout()"
   ]
  },
  {
   "cell_type": "markdown",
   "id": "033e4514",
   "metadata": {},
   "source": [
    "Even after using sf trimming, we still have quite a few outliers in each category.  Because of that, I'll do more trimming on the high side.  Since Zillow's target customers aren't the super rich, I feel comfortable trimming 10+ bedrooms, 10+ bathrooms and 10+ million value.  While we wanted to avoid any triming by value, it is import to get rid of these extreme outliers.\n"
   ]
  },
  {
   "cell_type": "code",
   "execution_count": 62,
   "id": "cee27b6b",
   "metadata": {},
   "outputs": [
    {
     "data": {
      "text/plain": [
       "(110, 7)"
      ]
     },
     "execution_count": 62,
     "metadata": {},
     "output_type": "execute_result"
    }
   ],
   "source": [
    "df[df.bed > 9].shape"
   ]
  },
  {
   "cell_type": "code",
   "execution_count": 63,
   "id": "9d3c3dc3",
   "metadata": {},
   "outputs": [
    {
     "data": {
      "text/plain": [
       "(193, 7)"
      ]
     },
     "execution_count": 63,
     "metadata": {},
     "output_type": "execute_result"
    }
   ],
   "source": [
    "df[df.bath>9].shape"
   ]
  },
  {
   "cell_type": "code",
   "execution_count": 64,
   "id": "c91604ed",
   "metadata": {},
   "outputs": [
    {
     "data": {
      "text/plain": [
       "(703, 7)"
      ]
     },
     "execution_count": 64,
     "metadata": {},
     "output_type": "execute_result"
    }
   ],
   "source": [
    "df[df.value>10_000_000].shape"
   ]
  },
  {
   "cell_type": "code",
   "execution_count": 65,
   "id": "d1e38241",
   "metadata": {},
   "outputs": [
    {
     "data": {
      "text/plain": [
       "0.00042517165896462046"
      ]
     },
     "execution_count": 65,
     "metadata": {},
     "output_type": "execute_result"
    }
   ],
   "source": [
    "df[(df.value>10_000_000) | (df.bath >9) | (df.bed >10)].shape[0] / df.shape[0]"
   ]
  },
  {
   "cell_type": "markdown",
   "id": "6260964b",
   "metadata": {},
   "source": [
    "Even with the extra trimming, that only accounts for .04% of the data.  \n",
    "\n",
    "**Action:** Drop all rows with 10+ beds, 10+ baths, or a value of 10+ million."
   ]
  },
  {
   "cell_type": "code",
   "execution_count": 66,
   "id": "4e60db74",
   "metadata": {},
   "outputs": [
    {
     "data": {
      "text/plain": [
       "(2136997, 7)"
      ]
     },
     "execution_count": 66,
     "metadata": {},
     "output_type": "execute_result"
    }
   ],
   "source": [
    "df = df[(df.value < 10_000_000) & (df.bath < 10) & (df.bed <10)]\n",
    "df.shape"
   ]
  },
  {
   "cell_type": "markdown",
   "id": "ba6b5700",
   "metadata": {},
   "source": [
    "### Now encode our categorical"
   ]
  },
  {
   "cell_type": "code",
   "execution_count": 67,
   "id": "1b4408de",
   "metadata": {},
   "outputs": [
    {
     "data": {
      "text/plain": [
       "6037.0    1422719\n",
       "6059.0     551414\n",
       "6111.0     162864\n",
       "Name: fips, dtype: int64"
      ]
     },
     "execution_count": 67,
     "metadata": {},
     "output_type": "execute_result"
    }
   ],
   "source": [
    "df.fips.value_counts()"
   ]
  },
  {
   "cell_type": "code",
   "execution_count": 68,
   "id": "271c9822",
   "metadata": {},
   "outputs": [],
   "source": [
    "#only categorical is FIPS.  I want to map then encode so that I have common sense \n",
    "# names for EDA and easy to read columns for the model\n",
    "\n",
    "#map to county names\n",
    "df['county'] = df.fips.map({6037: 'LosAngeles_CA',6059:'Orange_CA',6111:'Ventura_CA'})\n",
    "#encode into dummy df\n",
    "d_df = pd.get_dummies(df['county'],drop_first=True)\n",
    "#concat dummy df to the rest\n",
    "df = pd.concat([df,d_df],axis=1)"
   ]
  },
  {
   "cell_type": "code",
   "execution_count": 69,
   "id": "a5c610f9",
   "metadata": {},
   "outputs": [
    {
     "name": "stdout",
     "output_type": "stream",
     "text": [
      "<class 'pandas.core.frame.DataFrame'>\n",
      "Int64Index: 2136997 entries, 4 to 2152862\n",
      "Data columns (total 10 columns):\n",
      " #   Column      Non-Null Count    Dtype  \n",
      "---  ------      --------------    -----  \n",
      " 0   bed         2136997 non-null  float64\n",
      " 1   bath        2136997 non-null  float64\n",
      " 2   sf          2136997 non-null  float64\n",
      " 3   value       2136997 non-null  float64\n",
      " 4   yearbuilt   2136997 non-null  float64\n",
      " 5   taxamount   2136997 non-null  float64\n",
      " 6   fips        2136997 non-null  float64\n",
      " 7   county      2136997 non-null  object \n",
      " 8   Orange_CA   2136997 non-null  uint8  \n",
      " 9   Ventura_CA  2136997 non-null  uint8  \n",
      "dtypes: float64(7), object(1), uint8(2)\n",
      "memory usage: 150.8+ MB\n"
     ]
    }
   ],
   "source": [
    "df.info(show_counts=True)"
   ]
  },
  {
   "cell_type": "markdown",
   "id": "50670300",
   "metadata": {},
   "source": [
    "### See if other datatypes are appropriate\n"
   ]
  },
  {
   "cell_type": "code",
   "execution_count": 70,
   "id": "6ab488b2",
   "metadata": {},
   "outputs": [
    {
     "data": {
      "text/plain": [
       "3.0    962776\n",
       "4.0    633251\n",
       "2.0    334158\n",
       "5.0    150004\n",
       "6.0     24354\n",
       "1.0     22881\n",
       "7.0      4294\n",
       "0.0      4245\n",
       "8.0       834\n",
       "9.0       200\n",
       "Name: bed, dtype: int64"
      ]
     },
     "execution_count": 70,
     "metadata": {},
     "output_type": "execute_result"
    }
   ],
   "source": [
    "df.bed.value_counts() #can be integer"
   ]
  },
  {
   "cell_type": "code",
   "execution_count": 71,
   "id": "493f4d27",
   "metadata": {},
   "outputs": [
    {
     "data": {
      "text/plain": [
       "0.0    2136997\n",
       "Name: yearbuilt, dtype: int64"
      ]
     },
     "execution_count": 71,
     "metadata": {},
     "output_type": "execute_result"
    }
   ],
   "source": [
    "(df.yearbuilt % 1).value_counts() # can be integer"
   ]
  },
  {
   "cell_type": "markdown",
   "id": "8ef4afd7",
   "metadata": {},
   "source": [
    "Convert those two to integers"
   ]
  },
  {
   "cell_type": "code",
   "execution_count": 72,
   "id": "a9fa51a7",
   "metadata": {},
   "outputs": [
    {
     "name": "stdout",
     "output_type": "stream",
     "text": [
      "<class 'pandas.core.frame.DataFrame'>\n",
      "Int64Index: 2136997 entries, 4 to 2152862\n",
      "Data columns (total 10 columns):\n",
      " #   Column      Dtype  \n",
      "---  ------      -----  \n",
      " 0   bed         int64  \n",
      " 1   bath        float64\n",
      " 2   sf          float64\n",
      " 3   value       float64\n",
      " 4   yearbuilt   int64  \n",
      " 5   taxamount   float64\n",
      " 6   fips        float64\n",
      " 7   county      object \n",
      " 8   Orange_CA   uint8  \n",
      " 9   Ventura_CA  uint8  \n",
      "dtypes: float64(5), int64(2), object(1), uint8(2)\n",
      "memory usage: 150.8+ MB\n"
     ]
    }
   ],
   "source": [
    "df.bed = df.bed.astype(int)\n",
    "df.yearbuilt = df.yearbuilt.astype(int)\n",
    "df.info()"
   ]
  },
  {
   "cell_type": "markdown",
   "id": "0d509be8",
   "metadata": {},
   "source": [
    "### Drop any unecessary columns\n",
    "\n",
    "taxamount is proportional to tax value.  In addition, tax amount follows tax value.  Major changes in tax amount often come after the sale of a home.  So for Zillow's purposes, we don't want this as a predictor."
   ]
  },
  {
   "cell_type": "code",
   "execution_count": 73,
   "id": "d37d7186",
   "metadata": {},
   "outputs": [],
   "source": [
    "#Get rid of original fips column\n",
    "df.drop(columns=['fips','taxamount'],inplace=True)"
   ]
  },
  {
   "cell_type": "code",
   "execution_count": 74,
   "id": "4e056087",
   "metadata": {},
   "outputs": [
    {
     "name": "stdout",
     "output_type": "stream",
     "text": [
      "<class 'pandas.core.frame.DataFrame'>\n",
      "Int64Index: 2136997 entries, 4 to 2152862\n",
      "Data columns (total 8 columns):\n",
      " #   Column      Dtype  \n",
      "---  ------      -----  \n",
      " 0   bed         int64  \n",
      " 1   bath        float64\n",
      " 2   sf          float64\n",
      " 3   value       float64\n",
      " 4   yearbuilt   int64  \n",
      " 5   county      object \n",
      " 6   Orange_CA   uint8  \n",
      " 7   Ventura_CA  uint8  \n",
      "dtypes: float64(3), int64(2), object(1), uint8(2)\n",
      "memory usage: 118.2+ MB\n"
     ]
    }
   ],
   "source": [
    "df.info()"
   ]
  },
  {
   "cell_type": "markdown",
   "id": "ba3e79d7",
   "metadata": {},
   "source": [
    "### Now reorder columns for easier EDA/model splits"
   ]
  },
  {
   "cell_type": "code",
   "execution_count": 77,
   "id": "e970b543",
   "metadata": {},
   "outputs": [
    {
     "data": {
      "text/plain": [
       "Index(['bed', 'bath', 'sf', 'value', 'yearbuilt', 'county', 'Orange_CA',\n",
       "       'Ventura_CA'],\n",
       "      dtype='object')"
      ]
     },
     "execution_count": 77,
     "metadata": {},
     "output_type": "execute_result"
    }
   ],
   "source": [
    "df.columns"
   ]
  },
  {
   "cell_type": "code",
   "execution_count": 37,
   "id": "cf696294",
   "metadata": {},
   "outputs": [],
   "source": [
    "df = df.reindex(columns=['value', 'county', 'bed', 'bath', 'sf', 'yearbuilt', 'Orange_CA', 'Ventura_CA'])"
   ]
  },
  {
   "cell_type": "code",
   "execution_count": 38,
   "id": "e061787f",
   "metadata": {},
   "outputs": [
    {
     "name": "stdout",
     "output_type": "stream",
     "text": [
      "<class 'pandas.core.frame.DataFrame'>\n",
      "Int64Index: 2136997 entries, 4 to 2152862\n",
      "Data columns (total 9 columns):\n",
      " #   Column      Dtype  \n",
      "---  ------      -----  \n",
      " 0   value       float64\n",
      " 1   county      object \n",
      " 2   bed         int64  \n",
      " 3   bath        float64\n",
      " 4   sf          float64\n",
      " 5   yearbuilt   int64  \n",
      " 6   taxamount   float64\n",
      " 7   Orange_CA   uint8  \n",
      " 8   Ventura_CA  uint8  \n",
      "dtypes: float64(4), int64(2), object(1), uint8(2)\n",
      "memory usage: 134.5+ MB\n"
     ]
    }
   ],
   "source": [
    "df.info()"
   ]
  },
  {
   "cell_type": "markdown",
   "id": "d1aa2700",
   "metadata": {},
   "source": [
    "### Dropped work into function in wrangle.py\n",
    "\n",
    "### Now test the functions"
   ]
  },
  {
   "cell_type": "code",
   "execution_count": 39,
   "id": "18d0b1f7",
   "metadata": {},
   "outputs": [],
   "source": [
    "import wrangle"
   ]
  },
  {
   "cell_type": "code",
   "execution_count": 40,
   "id": "71d0ed0f",
   "metadata": {},
   "outputs": [
    {
     "name": "stderr",
     "output_type": "stream",
     "text": [
      "/opt/homebrew/anaconda3/lib/python3.9/site-packages/numpy/lib/arraysetops.py:583: FutureWarning: elementwise comparison failed; returning scalar instead, but in the future will perform elementwise comparison\n",
      "  mask |= (ar1 == a)\n"
     ]
    }
   ],
   "source": [
    "test_df = wrangle.getZillowData()"
   ]
  },
  {
   "cell_type": "code",
   "execution_count": 41,
   "id": "8b539fe3",
   "metadata": {},
   "outputs": [
    {
     "name": "stdout",
     "output_type": "stream",
     "text": [
      "<class 'pandas.core.frame.DataFrame'>\n",
      "Int64Index: 2152863 entries, 0 to 2152862\n",
      "Data columns (total 7 columns):\n",
      " #   Column     Non-Null Count    Dtype  \n",
      "---  ------     --------------    -----  \n",
      " 0   bed        2152852 non-null  float64\n",
      " 1   bath       2152852 non-null  float64\n",
      " 2   sf         2144379 non-null  float64\n",
      " 3   value      2152370 non-null  float64\n",
      " 4   yearbuilt  2143526 non-null  float64\n",
      " 5   taxamount  2148421 non-null  float64\n",
      " 6   fips       2152863 non-null  float64\n",
      "dtypes: float64(7)\n",
      "memory usage: 131.4 MB\n"
     ]
    }
   ],
   "source": [
    "test_df.info(show_counts=True)"
   ]
  },
  {
   "cell_type": "code",
   "execution_count": 42,
   "id": "ce9b9a10",
   "metadata": {},
   "outputs": [],
   "source": [
    "tr, te, val = wrangle.prep_zillow(test_df)"
   ]
  },
  {
   "cell_type": "code",
   "execution_count": 43,
   "id": "9b2f28a8",
   "metadata": {},
   "outputs": [
    {
     "name": "stdout",
     "output_type": "stream",
     "text": [
      "<class 'pandas.core.frame.DataFrame'>\n",
      "Int64Index: 1495897 entries, 1379475 to 1124006\n",
      "Data columns (total 9 columns):\n",
      " #   Column      Non-Null Count    Dtype  \n",
      "---  ------      --------------    -----  \n",
      " 0   value       1495897 non-null  float64\n",
      " 1   county      1495897 non-null  object \n",
      " 2   bed         1495897 non-null  int64  \n",
      " 3   bath        1495897 non-null  float64\n",
      " 4   sf          1495897 non-null  float64\n",
      " 5   yearbuilt   1495897 non-null  int64  \n",
      " 6   taxamount   1495897 non-null  float64\n",
      " 7   Orange_CA   1495897 non-null  uint8  \n",
      " 8   Ventura_CA  1495897 non-null  uint8  \n",
      "dtypes: float64(4), int64(2), object(1), uint8(2)\n",
      "memory usage: 94.2+ MB\n"
     ]
    }
   ],
   "source": [
    "tr.info()"
   ]
  },
  {
   "cell_type": "code",
   "execution_count": null,
   "id": "6c168695",
   "metadata": {},
   "outputs": [],
   "source": []
  },
  {
   "cell_type": "code",
   "execution_count": null,
   "id": "2f43c68b",
   "metadata": {},
   "outputs": [],
   "source": []
  },
  {
   "cell_type": "code",
   "execution_count": null,
   "id": "9249c408",
   "metadata": {},
   "outputs": [],
   "source": []
  }
 ],
 "metadata": {
  "kernelspec": {
   "display_name": "Python 3 (ipykernel)",
   "language": "python",
   "name": "python3"
  },
  "language_info": {
   "codemirror_mode": {
    "name": "ipython",
    "version": 3
   },
   "file_extension": ".py",
   "mimetype": "text/x-python",
   "name": "python",
   "nbconvert_exporter": "python",
   "pygments_lexer": "ipython3",
   "version": "3.9.7"
  }
 },
 "nbformat": 4,
 "nbformat_minor": 5
}
